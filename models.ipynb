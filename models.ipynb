{
 "cells": [
  {
   "cell_type": "code",
   "execution_count": 1,
   "metadata": {},
   "outputs": [],
   "source": [
    "import os\n",
    "from torch.utils.data import DataLoader\n",
    "import matplotlib.pyplot as plt\n",
    "from gqn_dataset import GQNDataset, Scene, transform_viewpoint, sample_batch, GQNDataset_pdisco\n",
    "\n",
    "from model import GQN"
   ]
  },
  {
   "cell_type": "code",
   "execution_count": 2,
   "metadata": {},
   "outputs": [],
   "source": [
    "train_data_dir = \"/home/mprabhud/dataset/shapenet_renders/npys/split_allpt.txt\""
   ]
  },
  {
   "cell_type": "code",
   "execution_count": 3,
   "metadata": {},
   "outputs": [],
   "source": [
    "train_dataset = GQNDataset_pdisco(root_dir=train_data_dir, target_transform=transform_viewpoint)"
   ]
  },
  {
   "cell_type": "code",
   "execution_count": 4,
   "metadata": {},
   "outputs": [
    {
     "data": {
      "text/plain": [
       "tensor([ 5.3157, -2.7362, -5.3157,  0.9397, -0.3420,  1.0000,  0.0000])"
      ]
     },
     "execution_count": 4,
     "metadata": {},
     "output_type": "execute_result"
    }
   ],
   "source": [
    "train_dataset[0][1][1]"
   ]
  },
  {
   "cell_type": "code",
   "execution_count": 5,
   "metadata": {},
   "outputs": [],
   "source": [
    "data  = []\n",
    "\n",
    "with open(train_data_dir) as f:\n",
    "    lines = f.readlines()\n",
    "    \n",
    "    for line in lines:\n",
    "        data.append(line.split()[0])\n",
    "        \n",
    "all_files = [os.path.join(os.path.dirname(train_data_dir),f) for f in data if f.endswith(\".p\")]"
   ]
  },
  {
   "cell_type": "code",
   "execution_count": 6,
   "metadata": {},
   "outputs": [],
   "source": [
    "train_loader = DataLoader(train_dataset, batch_size=36, shuffle=True)"
   ]
  },
  {
   "cell_type": "code",
   "execution_count": 7,
   "metadata": {},
   "outputs": [],
   "source": [
    "for b in train_loader:\n",
    "    x_data, v_data, metadata = b\n",
    "    break"
   ]
  },
  {
   "cell_type": "code",
   "execution_count": 8,
   "metadata": {},
   "outputs": [
    {
     "data": {
      "text/plain": [
       "(torch.Size([36, 24, 64, 64, 3]), torch.Size([36, 24, 7]), {})"
      ]
     },
     "execution_count": 8,
     "metadata": {},
     "output_type": "execute_result"
    }
   ],
   "source": [
    "x_data.shape, v_data.shape, metadata"
   ]
  },
  {
   "cell_type": "code",
   "execution_count": 9,
   "metadata": {},
   "outputs": [],
   "source": [
    "x, v, x_q, v_q, context_idx, query_idx = sample_batch(x_data, v_data, \"Shepard-Metzler\")\n",
    "x = x.permute(0,1,4,2,3)\n",
    "x_q = x_q.permute(0,3,1,2)"
   ]
  },
  {
   "cell_type": "code",
   "execution_count": 10,
   "metadata": {},
   "outputs": [],
   "source": [
    "model = GQN(representation=\"tower\", L=12, shared_core=True)"
   ]
  },
  {
   "cell_type": "code",
   "execution_count": 11,
   "metadata": {},
   "outputs": [
    {
     "data": {
      "text/plain": [
       "GQN(\n",
       "  (phi): Tower(\n",
       "    (conv1): Conv2d(3, 256, kernel_size=(2, 2), stride=(2, 2))\n",
       "    (conv2): Conv2d(256, 256, kernel_size=(2, 2), stride=(2, 2))\n",
       "    (conv3): Conv2d(256, 128, kernel_size=(3, 3), stride=(1, 1), padding=(1, 1))\n",
       "    (conv4): Conv2d(128, 256, kernel_size=(2, 2), stride=(2, 2))\n",
       "    (conv5): Conv2d(263, 256, kernel_size=(3, 3), stride=(1, 1), padding=(1, 1))\n",
       "    (conv6): Conv2d(263, 128, kernel_size=(3, 3), stride=(1, 1), padding=(1, 1))\n",
       "    (conv7): Conv2d(128, 256, kernel_size=(3, 3), stride=(1, 1), padding=(1, 1))\n",
       "    (conv8): Conv2d(256, 256, kernel_size=(1, 1), stride=(1, 1))\n",
       "  )\n",
       "  (inference_core): InferenceCore(\n",
       "    (downsample_x): Conv2d(3, 3, kernel_size=(4, 4), stride=(4, 4), bias=False)\n",
       "    (upsample_v): ConvTranspose2d(7, 7, kernel_size=(16, 16), stride=(16, 16), bias=False)\n",
       "    (upsample_r): ConvTranspose2d(256, 256, kernel_size=(16, 16), stride=(16, 16), bias=False)\n",
       "    (downsample_u): Conv2d(128, 128, kernel_size=(4, 4), stride=(4, 4), bias=False)\n",
       "    (core): Conv2dLSTMCell(\n",
       "      (forget): Conv2d(650, 128, kernel_size=(5, 5), stride=(1, 1), padding=(2, 2))\n",
       "      (input): Conv2d(650, 128, kernel_size=(5, 5), stride=(1, 1), padding=(2, 2))\n",
       "      (output): Conv2d(650, 128, kernel_size=(5, 5), stride=(1, 1), padding=(2, 2))\n",
       "      (state): Conv2d(650, 128, kernel_size=(5, 5), stride=(1, 1), padding=(2, 2))\n",
       "    )\n",
       "  )\n",
       "  (generation_core): GenerationCore(\n",
       "    (upsample_v): ConvTranspose2d(7, 7, kernel_size=(16, 16), stride=(16, 16), bias=False)\n",
       "    (upsample_r): ConvTranspose2d(256, 256, kernel_size=(16, 16), stride=(16, 16), bias=False)\n",
       "    (core): Conv2dLSTMCell(\n",
       "      (forget): Conv2d(394, 128, kernel_size=(5, 5), stride=(1, 1), padding=(2, 2))\n",
       "      (input): Conv2d(394, 128, kernel_size=(5, 5), stride=(1, 1), padding=(2, 2))\n",
       "      (output): Conv2d(394, 128, kernel_size=(5, 5), stride=(1, 1), padding=(2, 2))\n",
       "      (state): Conv2d(394, 128, kernel_size=(5, 5), stride=(1, 1), padding=(2, 2))\n",
       "    )\n",
       "    (upsample_h): ConvTranspose2d(128, 128, kernel_size=(4, 4), stride=(4, 4), bias=False)\n",
       "  )\n",
       "  (eta_pi): Conv2d(128, 6, kernel_size=(5, 5), stride=(1, 1), padding=(2, 2))\n",
       "  (eta_g): Conv2d(128, 3, kernel_size=(1, 1), stride=(1, 1))\n",
       "  (eta_e): Conv2d(128, 6, kernel_size=(5, 5), stride=(1, 1), padding=(2, 2))\n",
       ")"
      ]
     },
     "execution_count": 11,
     "metadata": {},
     "output_type": "execute_result"
    }
   ],
   "source": [
    "model"
   ]
  },
  {
   "cell_type": "code",
   "execution_count": 12,
   "metadata": {},
   "outputs": [],
   "source": [
    "sigma_i, sigma_f = 2.0, 0.7\n",
    "sigma = sigma_i\n"
   ]
  },
  {
   "cell_type": "code",
   "execution_count": 13,
   "metadata": {},
   "outputs": [],
   "source": [
    "elbo = model(x, v, v_q, x_q, sigma)"
   ]
  },
  {
   "cell_type": "code",
   "execution_count": 14,
   "metadata": {},
   "outputs": [
    {
     "data": {
      "text/plain": [
       "torch.Size([36])"
      ]
     },
     "execution_count": 14,
     "metadata": {},
     "output_type": "execute_result"
    }
   ],
   "source": [
    "elbo.shape"
   ]
  },
  {
   "cell_type": "code",
   "execution_count": 30,
   "metadata": {},
   "outputs": [
    {
     "data": {
      "text/plain": [
       "torch.Size([36, 1, 3, 64, 64])"
      ]
     },
     "execution_count": 30,
     "metadata": {},
     "output_type": "execute_result"
    }
   ],
   "source": [
    "x.shape"
   ]
  },
  {
   "cell_type": "code",
   "execution_count": 15,
   "metadata": {},
   "outputs": [
    {
     "data": {
      "text/plain": [
       "([20], 13)"
      ]
     },
     "execution_count": 15,
     "metadata": {},
     "output_type": "execute_result"
    }
   ],
   "source": [
    "context_idx, query_idx"
   ]
  },
  {
   "cell_type": "code",
   "execution_count": 16,
   "metadata": {},
   "outputs": [
    {
     "data": {
      "text/plain": [
       "tensor([-19841.6699, -19875.7949, -19853.3613, -19862.2988, -19834.0488,\n",
       "        -19847.9004, -19877.7051, -19850.6250, -19833.5723, -19911.8301,\n",
       "        -19848.1777, -19823.2070, -19874.4316, -19873.2949, -19850.0684,\n",
       "        -19872.8223, -19871.9336, -19886.7441, -19923.9219, -19851.8008,\n",
       "        -19902.4551, -19841.6816, -19900.2539, -19909.7773, -19835.6074,\n",
       "        -19911.2500, -19886.7500, -19868.8730, -19925.2168, -19908.2480,\n",
       "        -19852.7969, -19885.3555, -19854.0703, -19889.6113, -19867.1113,\n",
       "        -19823.1289], grad_fn=<AddBackward0>)"
      ]
     },
     "execution_count": 16,
     "metadata": {},
     "output_type": "execute_result"
    }
   ],
   "source": [
    "elbo"
   ]
  },
  {
   "cell_type": "code",
   "execution_count": null,
   "metadata": {},
   "outputs": [],
   "source": []
  }
 ],
 "metadata": {
  "kernelspec": {
   "display_name": "torchNew",
   "language": "python",
   "name": "torchnew"
  },
  "language_info": {
   "codemirror_mode": {
    "name": "ipython",
    "version": 3
   },
   "file_extension": ".py",
   "mimetype": "text/x-python",
   "name": "python",
   "nbconvert_exporter": "python",
   "pygments_lexer": "ipython3",
   "version": "3.7.9"
  }
 },
 "nbformat": 4,
 "nbformat_minor": 4
}
