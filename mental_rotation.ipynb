{
 "cells": [
  {
   "cell_type": "code",
   "execution_count": 1,
   "metadata": {},
   "outputs": [],
   "source": [
    "import torch\n",
    "import torch.nn as nn\n",
    "from torch.utils.data import DataLoader\n",
    "import matplotlib.pyplot as plt\n",
    "\n",
    "from model1 import GQN\n",
    "from gqn_dataset import GQNDataset, Scene, transform_viewpoint, sample_batch, GQNDataset_pdisco"
   ]
  },
  {
   "cell_type": "code",
   "execution_count": 2,
   "metadata": {},
   "outputs": [],
   "source": [
    "model_path = \"./logs/GQN/models/shapenet_single_view1/model-4000.pt\"\n",
    "device_ids = [0,1,2]"
   ]
  },
  {
   "cell_type": "code",
   "execution_count": 3,
   "metadata": {},
   "outputs": [],
   "source": [
    "state_dict = torch.load(model_path)\n",
    "device = f\"cuda:{device_ids[0]}\" if torch.cuda.is_available() else \"cpu\""
   ]
  },
  {
   "cell_type": "code",
   "execution_count": 4,
   "metadata": {},
   "outputs": [
    {
     "data": {
      "text/plain": [
       "<All keys matched successfully>"
      ]
     },
     "execution_count": 4,
     "metadata": {},
     "output_type": "execute_result"
    }
   ],
   "source": [
    "model = GQN(representation=\"tower\", L=12, shared_core=True).to(device)\n",
    "if len(device_ids)>1:\n",
    "    model = nn.DataParallel(model, device_ids=[0])\n",
    "    \n",
    "model.load_state_dict(state_dict)"
   ]
  },
  {
   "cell_type": "code",
   "execution_count": 5,
   "metadata": {},
   "outputs": [],
   "source": [
    "model = model.module"
   ]
  },
  {
   "cell_type": "code",
   "execution_count": 6,
   "metadata": {},
   "outputs": [],
   "source": [
    "train_data_dir = \"/home/mprabhud/dataset/shapenet_renders/npys/split_allpt.txt\"\n",
    "train_dataset = GQNDataset_pdisco(root_dir=train_data_dir, target_transform=transform_viewpoint)\n",
    "\n",
    "train_loader = DataLoader(train_dataset, batch_size=1, shuffle=True)"
   ]
  },
  {
   "cell_type": "code",
   "execution_count": 7,
   "metadata": {},
   "outputs": [],
   "source": [
    "val_data_dir = \"/home/mprabhud/dataset/shapenet_renders/npys/split_allpv.txt\"\n",
    "val_dataset = GQNDataset_pdisco(root_dir=val_data_dir, target_transform=transform_viewpoint)\n",
    "\n",
    "val_loader = DataLoader(val_dataset, batch_size=1, shuffle=True)"
   ]
  },
  {
   "cell_type": "code",
   "execution_count": 8,
   "metadata": {},
   "outputs": [
    {
     "data": {
      "text/plain": [
       "<matplotlib.image.AxesImage at 0x7ff18b9a8e50>"
      ]
     },
     "execution_count": 8,
     "metadata": {},
     "output_type": "execute_result"
    },
    {
     "data": {
      "image/png": "[encoded data removed]",
      "text/plain": [
       "<Figure size 1440x504 with 1 Axes>"
      ]
     },
     "metadata": {
      "needs_background": "light"
     },
     "output_type": "display_data"
    }
   ],
   "source": [
    "M = 1\n",
    "\n",
    "# Load data\n",
    "x_data, v_data, metadata = next(iter(val_loader))\n",
    "\n",
    "x, v, x_q, v_q, context_idx, query_idx = sample_batch(x_data, v_data, D=\"Shepard-Metzler\", M = M)\n",
    "\n",
    "# Visualise context and query images\n",
    "f, axarr = plt.subplots(1, M, figsize=(20, 7))\n",
    "\n",
    "# for i, ax in enumerate(axarr.flat):\n",
    "#     # Move channel dimension to end\n",
    "#     ax.set_title(\"Context Image\", color=\"magenta\")\n",
    "#     ax.imshow(x.squeeze(0)[i])\n",
    "\n",
    "plt.imshow(x.squeeze(0)[0])"
   ]
  },
  {
   "cell_type": "code",
   "execution_count": 9,
   "metadata": {},
   "outputs": [
    {
     "data": {
      "image/png": "[encoded data removed]",
      "text/plain": [
       "<Figure size 864x504 with 3 Axes>"
      ]
     },
     "metadata": {
      "needs_background": "light"
     },
     "output_type": "display_data"
    }
   ],
   "source": [
    "f, (ax1, ax2, ax3) = plt.subplots(1, 3, figsize=(12, 7))\n",
    "\n",
    "x = x.permute(0,1,4,2,3).to(device)\n",
    "x_q = x_q.permute(0,3,1,2).to(device)\n",
    "v=v.to(device)\n",
    "v_q=v_q.to(device)\n",
    "\n",
    "model.eval()\n",
    "\n",
    "with torch.no_grad():\n",
    "    r = model.reconstruct(x, v, v_q, x_q)\n",
    "    x_mu = model.generate(x, v, v_q)\n",
    "\n",
    "    x_q = x_q.permute(0,3,2,1).cpu().detach().numpy()\n",
    "    x_mu = x_mu.permute(0,3,2,1).cpu().detach().numpy()\n",
    "    r = r.permute(0,3,2,1).cpu().detach().numpy()\n",
    "    \n",
    "x_q = x_q.squeeze(0)\n",
    "x_mu = x_mu.squeeze(0)\n",
    "r = r.squeeze(0)\n",
    "\n",
    "ax1.imshow(x_q)\n",
    "ax1.set_title(\"Query image\")\n",
    "ax1.axis(\"off\")\n",
    "\n",
    "ax2.imshow(x_mu)\n",
    "ax2.set_title(\"Reconstruction\")\n",
    "ax2.axis(\"off\")\n",
    "\n",
    "ax3.imshow(r)\n",
    "ax3.set_title(\"Representation\")\n",
    "ax3.axis(\"off\")\n",
    "\n",
    "plt.show()"
   ]
  },
  {
   "cell_type": "code",
   "execution_count": 41,
   "metadata": {},
   "outputs": [
    {
     "data": {
      "text/plain": [
       "(64, 64, 3)"
      ]
     },
     "execution_count": 41,
     "metadata": {},
     "output_type": "execute_result"
    }
   ],
   "source": [
    "x_q.shape"
   ]
  },
  {
   "cell_type": "code",
   "execution_count": 42,
   "metadata": {},
   "outputs": [
    {
     "ename": "SyntaxError",
     "evalue": "invalid syntax (<ipython-input-42-2492420cca4a>, line 4)",
     "output_type": "error",
     "traceback": [
      "\u001b[0;36m  File \u001b[0;32m\"<ipython-input-42-2492420cca4a>\"\u001b[0;36m, line \u001b[0;32m4\u001b[0m\n\u001b[0;31m    SCENER rEPRESETNATION =  f(Im) + f(Im2)\u001b[0m\n\u001b[0m                        ^\u001b[0m\n\u001b[0;31mSyntaxError\u001b[0m\u001b[0;31m:\u001b[0m invalid syntax\n"
     ]
    }
   ],
   "source": [
    "Im -- f(Im)\n",
    "Im2 -- f(Im2)\n",
    "\n",
    "SCENER rEPRESETNATION =  f(Im) + f(Im2)\n",
    "\n",
    "SceneRepresenrataion = S(f(Im) + g(Im))\n",
    "\n",
    "q_viewpoint --> Scene Represent --> (Rendered Image  - Query Image)"
   ]
  }
 ],
 "metadata": {
  "kernelspec": {
   "display_name": "torchNew",
   "language": "python",
   "name": "torchnew"
  },
  "language_info": {
   "codemirror_mode": {
    "name": "ipython",
    "version": 3
   },
   "file_extension": ".py",
   "mimetype": "text/x-python",
   "name": "python",
   "nbconvert_exporter": "python",
   "pygments_lexer": "ipython3",
   "version": "3.7.9"
  }
 },
 "nbformat": 4,
 "nbformat_minor": 4
}
